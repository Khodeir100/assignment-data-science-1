{
 "cells": [
  {
   "cell_type": "markdown",
   "id": "fbe09e88-33bc-4bfd-a842-4118c1667b55",
   "metadata": {},
   "source": [
    "# Write a NumPy program to test whether none of the elements of a given array is zero."
   ]
  },
  {
   "cell_type": "code",
   "execution_count": 2,
   "id": "d2c8231f-6d73-46a9-b6fa-5c3820f64561",
   "metadata": {},
   "outputs": [
    {
     "data": {
      "text/plain": [
       "array([ 1, 10, 20, 30, 40, 50, 60])"
      ]
     },
     "execution_count": 2,
     "metadata": {},
     "output_type": "execute_result"
    }
   ],
   "source": [
    "import numpy as np\n",
    "arr = np.array([0,10,20,30,40,50,60])\n",
    "arr[arr == 0] = True\n",
    "arr"
   ]
  },
  {
   "cell_type": "markdown",
   "id": "666b9814-02d8-4705-aa2c-4cedaa4e9f62",
   "metadata": {},
   "source": [
    "# Write a NumPy program to test whether any of the elements of a given array is non-zero."
   ]
  },
  {
   "cell_type": "code",
   "execution_count": 4,
   "id": "59d60153-afe1-429a-b6f1-17aa9f909e6b",
   "metadata": {},
   "outputs": [
    {
     "data": {
      "text/plain": [
       "array([0, 1, 0, 1, 0, 0, 0, 1])"
      ]
     },
     "execution_count": 4,
     "metadata": {},
     "output_type": "execute_result"
    }
   ],
   "source": [
    "arr = np.array([0,5,0,9,0,0,0,20])\n",
    "arr[arr != 0] = True\n",
    "arr"
   ]
  },
  {
   "cell_type": "markdown",
   "id": "844d0481-c689-4792-8380-9191abb18049",
   "metadata": {},
   "source": [
    "# Write a NumPy program to create an element-wise comparison (equal, equal within a tolerance) of two given"
   ]
  },
  {
   "cell_type": "code",
   "execution_count": 5,
   "id": "de989601-5f9c-4dec-9675-a0b1c7d7b4cd",
   "metadata": {},
   "outputs": [
    {
     "data": {
      "text/plain": [
       "array([ True, False,  True])"
      ]
     },
     "execution_count": 5,
     "metadata": {},
     "output_type": "execute_result"
    }
   ],
   "source": [
    "x = np.array([1,2,3])\n",
    "y = np.array([1,5,3])\n",
    "x == y"
   ]
  },
  {
   "cell_type": "markdown",
   "id": "d0909918-0679-4e11-874f-241f765cbdda",
   "metadata": {},
   "source": [
    "# Write a NumPy program to create an array of 10 zeros,10 ones, 10 fives"
   ]
  },
  {
   "cell_type": "code",
   "execution_count": 9,
   "id": "d20c8a33-aca2-4e09-9d27-439944139cca",
   "metadata": {},
   "outputs": [
    {
     "data": {
      "text/plain": [
       "array([[0., 0., 0., 0., 0., 0., 0., 0., 0., 0.],\n",
       "       [1., 1., 1., 1., 1., 1., 1., 1., 1., 1.],\n",
       "       [5., 5., 5., 5., 5., 5., 5., 5., 5., 5.]])"
      ]
     },
     "execution_count": 9,
     "metadata": {},
     "output_type": "execute_result"
    }
   ],
   "source": [
    "A = np.zeros((1,10))\n",
    "B = np.ones((1,10))\n",
    "C = np.ones((1,10)) * 5\n",
    "np.block([[A],[B],[C]])"
   ]
  },
  {
   "cell_type": "markdown",
   "id": "83676f0a-9456-40b1-9546-c95789d3219c",
   "metadata": {},
   "source": [
    "# Write a NumPy program to create an array of the integers from 30 to70."
   ]
  },
  {
   "cell_type": "code",
   "execution_count": 22,
   "id": "e5db47f4-ae71-496f-afa1-6ef6a7a71615",
   "metadata": {
    "scrolled": true
   },
   "outputs": [
    {
     "data": {
      "text/plain": [
       "array([30., 35., 40., 45., 50., 55., 60., 65., 70.])"
      ]
     },
     "execution_count": 22,
     "metadata": {},
     "output_type": "execute_result"
    }
   ],
   "source": [
    "np.linspace(30,70,9)"
   ]
  },
  {
   "cell_type": "markdown",
   "id": "07f27f6b-42a8-4efb-95d4-780689a81f61",
   "metadata": {},
   "source": [
    "# Write a NumPy program to create a 3x3 identity matrix"
   ]
  },
  {
   "cell_type": "code",
   "execution_count": 15,
   "id": "32b8d181-7be4-4990-a46a-5af4b95a265d",
   "metadata": {},
   "outputs": [
    {
     "data": {
      "text/plain": [
       "array([[1., 0., 0.],\n",
       "       [0., 1., 0.],\n",
       "       [0., 0., 1.]])"
      ]
     },
     "execution_count": 15,
     "metadata": {},
     "output_type": "execute_result"
    }
   ],
   "source": [
    "np.identity(3,dtype = float)"
   ]
  },
  {
   "cell_type": "markdown",
   "id": "940c1d1c-6c76-4a97-9e48-9862d21eb8c3",
   "metadata": {},
   "source": [
    "# Write a NumPy program to generate a random number between 0 and 1"
   ]
  },
  {
   "cell_type": "code",
   "execution_count": 17,
   "id": "c7d1f7c5-9a4e-4d3b-81a9-38bb1b9ad280",
   "metadata": {},
   "outputs": [
    {
     "data": {
      "text/plain": [
       "array([[0.29244847],\n",
       "       [0.20725881],\n",
       "       [0.13811397],\n",
       "       [0.32708343],\n",
       "       [0.4241739 ]])"
      ]
     },
     "execution_count": 17,
     "metadata": {},
     "output_type": "execute_result"
    }
   ],
   "source": [
    "np.random.rand(5,1)"
   ]
  },
  {
   "cell_type": "markdown",
   "id": "c81f8b07-2252-4b5d-8607-c5467f3c0e24",
   "metadata": {},
   "source": [
    "# Write a NumPy program to generate an array of 15 random numbers from a standard normal \n",
    "distribution"
   ]
  },
  {
   "cell_type": "code",
   "execution_count": 24,
   "id": "7cff8dfd-fe1b-43bd-ac6a-25a9c63331df",
   "metadata": {},
   "outputs": [
    {
     "data": {
      "text/plain": [
       "array([-27.59701689,  19.04634525, -22.41390751, -10.26111591,\n",
       "         3.12345826,  -6.70144515, -20.29176078, -14.87176103,\n",
       "        16.2077043 ,   0.49014906,  -3.31536263, -21.9946392 ,\n",
       "       -10.01320973, -12.28526955, -44.8120453 ])"
      ]
     },
     "execution_count": 24,
     "metadata": {},
     "output_type": "execute_result"
    }
   ],
   "source": [
    "np.random.normal(1,20, 15)"
   ]
  },
  {
   "cell_type": "markdown",
   "id": "27d1e3a6-f91e-4f44-97da-e8c7b5afa9dc",
   "metadata": {},
   "source": [
    "# Write a NumPy program to create a vector with values ranging from 15 to 55 and print all values except the first and last."
   ]
  },
  {
   "cell_type": "code",
   "execution_count": 27,
   "id": "621ab27c-56ad-451a-9559-9e35baa61c7e",
   "metadata": {},
   "outputs": [
    {
     "data": {
      "text/plain": [
       "array([[46, 45, 34, 28, 15, 21, 44, 19, 20, 35]])"
      ]
     },
     "execution_count": 27,
     "metadata": {},
     "output_type": "execute_result"
    }
   ],
   "source": [
    "np.random.randint(15.1,55,(1,10))"
   ]
  },
  {
   "cell_type": "markdown",
   "id": "e84f8e5d-cb3c-4277-a9ac-b785318fa0f5",
   "metadata": {},
   "source": [
    "# Write a NumPy program to create a vector of length 5 filled with arbitrary integers from 0 to 10"
   ]
  },
  {
   "cell_type": "code",
   "execution_count": 30,
   "id": "4df93e80-6d8a-4297-b2ed-a011567f63ab",
   "metadata": {},
   "outputs": [
    {
     "data": {
      "text/plain": [
       "array([[1, 2, 3, 5, 4]])"
      ]
     },
     "execution_count": 30,
     "metadata": {},
     "output_type": "execute_result"
    }
   ],
   "source": [
    "np.random.randint(0,10.1,(1,5))"
   ]
  },
  {
   "cell_type": "markdown",
   "id": "a1e90132-4dca-4823-b7a1-eda4da1f805e",
   "metadata": {},
   "source": [
    "# Write a NumPy program to create a 10x10 matrix, in which the elements on the borders will be equal \n",
    "to 1, and inside 0."
   ]
  },
  {
   "cell_type": "code",
   "execution_count": 31,
   "id": "6adfdc51-fb06-4dc2-b279-44cb243319b4",
   "metadata": {},
   "outputs": [
    {
     "data": {
      "text/plain": [
       "array([[1., 1., 1., 1., 1., 1., 1., 1., 1., 1.],\n",
       "       [1., 0., 0., 0., 0., 0., 0., 0., 0., 1.],\n",
       "       [1., 0., 0., 0., 0., 0., 0., 0., 0., 1.],\n",
       "       [1., 0., 0., 0., 0., 0., 0., 0., 0., 1.],\n",
       "       [1., 0., 0., 0., 0., 0., 0., 0., 0., 1.],\n",
       "       [1., 0., 0., 0., 0., 0., 0., 0., 0., 1.],\n",
       "       [1., 0., 0., 0., 0., 0., 0., 0., 0., 1.],\n",
       "       [1., 0., 0., 0., 0., 0., 0., 0., 0., 1.],\n",
       "       [1., 0., 0., 0., 0., 0., 0., 0., 0., 1.],\n",
       "       [1., 1., 1., 1., 1., 1., 1., 1., 1., 1.]])"
      ]
     },
     "execution_count": 31,
     "metadata": {},
     "output_type": "execute_result"
    }
   ],
   "source": [
    "x=np.ones((10,10))\n",
    "x[1:-1,1:-1]=0\n",
    "x"
   ]
  },
  {
   "cell_type": "markdown",
   "id": "20be0354-3df1-422e-83b3-22d33b9eede1",
   "metadata": {},
   "source": [
    "# Write a NumPy program to create a 5x5 zero matrix with elements on the main diagonal equal to 1, 2, 3, 4, 5."
   ]
  },
  {
   "cell_type": "code",
   "execution_count": 33,
   "id": "748c7c1f-836b-4ee3-adb5-fb4eba42960b",
   "metadata": {},
   "outputs": [
    {
     "data": {
      "text/plain": [
       "array([[1, 0, 0, 0, 0],\n",
       "       [0, 2, 0, 0, 0],\n",
       "       [0, 0, 3, 0, 0],\n",
       "       [0, 0, 0, 4, 0],\n",
       "       [0, 0, 0, 0, 5]])"
      ]
     },
     "execution_count": 33,
     "metadata": {},
     "output_type": "execute_result"
    }
   ],
   "source": [
    "np.diag([1,2,3,4,5])"
   ]
  },
  {
   "cell_type": "markdown",
   "id": "d3dcbc62-40b6-4667-bc90-1a71af957f23",
   "metadata": {},
   "source": [
    "# Write a NumPy program to create a 4x4 matrix in which 0 and 1 are staggered, with zeros on the main \n",
    "diagonal."
   ]
  },
  {
   "cell_type": "code",
   "execution_count": 36,
   "id": "38d2b81d-c654-4363-a16d-51eb9fc8f989",
   "metadata": {},
   "outputs": [
    {
     "data": {
      "text/plain": [
       "array([[0., 1., 0., 1.],\n",
       "       [1., 0., 1., 0.],\n",
       "       [0., 1., 0., 1.],\n",
       "       [1., 0., 1., 0.]])"
      ]
     },
     "execution_count": 36,
     "metadata": {},
     "output_type": "execute_result"
    }
   ],
   "source": [
    "x=np.zeros((4,4))\n",
    "x[0::2,1::2]=1\n",
    "x[1::2,0::2]=1\n",
    "x"
   ]
  },
  {
   "cell_type": "markdown",
   "id": "fe38f29b-88b1-4ff7-8000-9c79b118d9e6",
   "metadata": {},
   "source": [
    "# Write a NumPy program to save two given arrays into a single file in compressed format (.npz format) and load it."
   ]
  },
  {
   "cell_type": "code",
   "execution_count": null,
   "id": "38f2231a-e8ce-4697-a434-6a1bc354a685",
   "metadata": {},
   "outputs": [],
   "source": []
  },
  {
   "cell_type": "markdown",
   "id": "0682d6da-6058-43e6-974c-3e8f4b66619e",
   "metadata": {},
   "source": [
    "# Write a NumPy program to create a one-dimensional array of forty pseudo-randomly generated values. \n",
    "Select"
   ]
  },
  {
   "cell_type": "code",
   "execution_count": 37,
   "id": "c8d8f5c4-e6c2-4843-b9b8-25634db499e3",
   "metadata": {},
   "outputs": [
    {
     "data": {
      "text/plain": [
       "array([0.59019448, 0.09479348, 0.82542979, 0.00476513, 0.07718145,\n",
       "       0.53276137, 0.7956361 , 0.37220431, 0.44025628, 0.89717349,\n",
       "       0.3151182 , 0.86806407, 0.21402906, 0.62058714, 0.36098183,\n",
       "       0.87305259, 0.98316833, 0.31668955, 0.16174129, 0.3575622 ,\n",
       "       0.16132734, 0.73559504, 0.11473842, 0.57387885, 0.43143475,\n",
       "       0.80727937, 0.47515799, 0.12781713, 0.94707593, 0.84894336,\n",
       "       0.19771613, 0.00861699, 0.38668314, 0.78975349, 0.18743916,\n",
       "       0.88401457, 0.93185233, 0.99783719, 0.51150085, 0.84777605])"
      ]
     },
     "execution_count": 37,
     "metadata": {},
     "output_type": "execute_result"
    }
   ],
   "source": [
    "np.random.rand(40)"
   ]
  },
  {
   "cell_type": "markdown",
   "id": "a229dec8-cc5a-438e-9c48-44c3446cd046",
   "metadata": {},
   "source": [
    "# Write a NumPy program to extract all numbers from a given array which are less and greater than a \n",
    "specified number."
   ]
  },
  {
   "cell_type": "code",
   "execution_count": 39,
   "id": "8f50093f-6d54-4669-800c-99c3c37a3cea",
   "metadata": {},
   "outputs": [
    {
     "name": "stdout",
     "output_type": "stream",
     "text": [
      "[1 2 5 7 9 6]\n",
      "[25 41 21]\n"
     ]
    }
   ],
   "source": [
    "x=np.array([1,2,5,7,11,25,12,41,21,10,9,6])\n",
    "n=10\n",
    "o=17\n",
    "print(x[x<n])\n",
    "print(x[x>o])"
   ]
  }
 ],
 "metadata": {
  "kernelspec": {
   "display_name": "Python 3 (ipykernel)",
   "language": "python",
   "name": "python3"
  },
  "language_info": {
   "codemirror_mode": {
    "name": "ipython",
    "version": 3
   },
   "file_extension": ".py",
   "mimetype": "text/x-python",
   "name": "python",
   "nbconvert_exporter": "python",
   "pygments_lexer": "ipython3",
   "version": "3.11.7"
  }
 },
 "nbformat": 4,
 "nbformat_minor": 5
}
